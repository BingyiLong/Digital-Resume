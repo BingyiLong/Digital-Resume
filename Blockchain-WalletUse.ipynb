{
 "cells": [
  {
   "cell_type": "code",
   "execution_count": 24,
   "id": "41dc760c-796f-42c8-b491-ac8c5d065a5c",
   "metadata": {},
   "outputs": [],
   "source": [
    "from ecdsa import SigningKey, SECP256k1, VerifyingKey, BadSignatureError\n",
    "import hashlib\n",
    "import base64\n",
    "import binascii\n",
    "from datetime import datetime\n",
    "\n",
    "class Wallet:\n",
    "    \"\"\"\n",
    "        钱包\n",
    "    \"\"\"\n",
    "    def __init__(self):\n",
    "        \"\"\"\n",
    "            钱包初始化时基于椭圆曲线生成一个唯一的秘匙对，代表区块链上一个唯一的账户\n",
    "        \"\"\"\n",
    "        self._private_key = SigningKey.generate(curve=SECP256k1)\n",
    "        self._public_key = self._private_key.get_verifying_key()\n",
    "    \n",
    "    @property\n",
    "    def address(self):\n",
    "        \"\"\"\n",
    "            这里通过公匙生成地址\n",
    "        \"\"\"\n",
    "        h = hashlib.sha256(self._public_key.to_pem())\n",
    "        return base64.b64encode(h.digest())\n",
    "    \n",
    "    @property\n",
    "    def pubkey(self):\n",
    "        \"\"\"\n",
    "            返回公匙字符\n",
    "        \"\"\"\n",
    "        return self._public_key.to_pem()\n",
    "    \n",
    "    def sign(self, message):\n",
    "        \"\"\"\n",
    "            生成数字签名\n",
    "        \"\"\"\n",
    "        h = hashlib.sha256(message.encode('utf8'))\n",
    "        return binascii.hexlify(self._private_key.sign(h.digest()))\n",
    "    "
   ]
  },
  {
   "cell_type": "code",
   "execution_count": 25,
   "id": "547befa6-5705-438c-a47f-0084aef8b204",
   "metadata": {},
   "outputs": [],
   "source": [
    "def verify_sign(pubkey, message, signature):\n",
    "    \"\"\"\n",
    "        验证签名\n",
    "    \"\"\"\n",
    "    verifier = VerifyingKey.from_pem(pubkey)\n",
    "    h = hashlib.sha256(message.encode('utf8'))\n",
    "    return verifier.verify(binascii.unhexlify(signature), h.digest())"
   ]
  },
  {
   "cell_type": "code",
   "execution_count": 26,
   "id": "27595ab7-e242-49cc-967d-1e0094eb8aa1",
   "metadata": {},
   "outputs": [
    {
     "data": {
      "text/plain": [
       "b'0WJ2SzW6BxCXmTNL9rP6w2MiOvFzTj7/PDpqeHVPE6I='"
      ]
     },
     "execution_count": 26,
     "metadata": {},
     "output_type": "execute_result"
    }
   ],
   "source": [
    "#新建钱包\n",
    "\n",
    "w = Wallet()\n",
    "\n",
    "w.address"
   ]
  },
  {
   "cell_type": "code",
   "execution_count": 27,
   "id": "1d8f0e38-acfb-4f61-87fa-933c023b766d",
   "metadata": {},
   "outputs": [
    {
     "data": {
      "text/plain": [
       "b'-----BEGIN PUBLIC KEY-----\\nMFYwEAYHKoZIzj0CAQYFK4EEAAoDQgAEudyis6N/3u5Zt+h/jwLv1zLV3CD1hxC+\\nuckgQVkkSX+oXVIaks6gVWPQBbVECzYIR8lEiB0EEoyI8GIeOJU5QA==\\n-----END PUBLIC KEY-----\\n'"
      ]
     },
     "execution_count": 27,
     "metadata": {},
     "output_type": "execute_result"
    }
   ],
   "source": [
    "w.pubkey"
   ]
  },
  {
   "cell_type": "code",
   "execution_count": 28,
   "id": "93ba1418-fba4-441c-a6b4-4b0cf3e0a835",
   "metadata": {},
   "outputs": [],
   "source": [
    "data=\"交易数据\""
   ]
  },
  {
   "cell_type": "code",
   "execution_count": 29,
   "id": "754fea47-2bb4-478a-86e9-27295c43fec4",
   "metadata": {},
   "outputs": [
    {
     "name": "stdout",
     "output_type": "stream",
     "text": [
      "b'f63bb664144677b35f29814f17fffbfb4cf7f6bc37e3126f2f58e2471d67449ca4570d8ad3a42abd15080b533dc8389d54db02e6cbb11f97dc9797f8e5c94720'\n"
     ]
    }
   ],
   "source": [
    "sig = w.sign(data)\n",
    "\n",
    "print(sig)"
   ]
  },
  {
   "cell_type": "code",
   "execution_count": 30,
   "id": "b257a887-e0fd-4455-9cd4-e5da5e7c96c5",
   "metadata": {},
   "outputs": [
    {
     "data": {
      "text/plain": [
       "True"
      ]
     },
     "execution_count": 30,
     "metadata": {},
     "output_type": "execute_result"
    }
   ],
   "source": [
    "verify_sign(w.pubkey, data, sig)"
   ]
  },
  {
   "cell_type": "code",
   "execution_count": 31,
   "id": "f8e0b373-66e5-4ce6-a5b5-088a53438ef8",
   "metadata": {},
   "outputs": [],
   "source": [
    "import json\n",
    "from json import JSONEncoder\n",
    "\n",
    "class Transaction:\n",
    "    \"\"\"\n",
    "        交易的结构\n",
    "    \"\"\"\n",
    "    \n",
    "    def __init__(self, sender, recipient, amount):\n",
    "        \"\"\"\n",
    "            初始化交易，设置交易的发送方，接收方，和交易数量\n",
    "        \"\"\"\n",
    "        if isinstance(sender, bytes):\n",
    "            sender = sender.decode('utf-8')\n",
    "        self.sender = sender\n",
    "        if isinstance(recipient, bytes):\n",
    "            recipient = recipient.decode('utf-8')\n",
    "        self.recipient = recipient\n",
    "        self.amount = amount\n",
    "    \n",
    "    def set_sign(self, signature, pubkey):\n",
    "        \"\"\"\n",
    "            为了便于验证交易的可靠性，需要发送方输入他的公匙和签名\n",
    "        \"\"\"\n",
    "        self.signature = signature\n",
    "        self.pubkey = pubkey\n",
    "    \n",
    "    def __repr__(self):\n",
    "        \"\"\"\n",
    "            交易大致可分为两种，一种是挖矿所得，二是转账交易\n",
    "            挖矿物发送方，以此进行区分现实不同内容\n",
    "        \"\"\"\n",
    "        if self.sender:\n",
    "            s = \"%s sending %d number of coins to %s\"%(self.sender, self.amount, self.recipient)\n",
    "        else:\n",
    "            s = \"%s getting %d number of coins from mining\"%(self.recipient, self.amount)\n",
    "        return s"
   ]
  },
  {
   "cell_type": "code",
   "execution_count": 32,
   "id": "7a9b6ca4-a926-4327-857a-cf2a16f3b86c",
   "metadata": {},
   "outputs": [],
   "source": [
    "#updated blockchain version with transactions:\n",
    "\n",
    "class Block:\n",
    "    \"\"\"\n",
    "        区块结构\n",
    "            prev_hash:  父区块哈希值\n",
    "            transactions:交易内容\n",
    "            time stamp: 区块创建时间\n",
    "            hash:       区块哈希值\n",
    "            Nonce       随机数\n",
    "    \"\"\"\n",
    "    \n",
    "    def __init__(self, transactions, prev_hash):\n",
    "        self.prev_hash = prev_hash\n",
    "        self.transactions = transactions\n",
    "        self.timestamp = datetime.now().strftime(\"%Y-%m-%d %H:%M:%S\")\n",
    "        \n",
    "        #不计算区块的哈希值，设置初始Nonce和哈希为None\n",
    "        self.nonce = None\n",
    "        self.hash = None\n",
    "        \n",
    "    def __repr__(self):\n",
    "        return\"transactions: %s\\n Hash:%s\"%(self.transactions, self.hash)\n",
    "    \n"
   ]
  },
  {
   "cell_type": "code",
   "execution_count": 33,
   "id": "7c3852c9-0268-4994-85f4-803d61209b22",
   "metadata": {},
   "outputs": [],
   "source": [
    "class BlockChain:\n",
    "    \"\"\"\n",
    "        区块链结构体\n",
    "            blocks:  包含的区块列表\n",
    "    \"\"\"\n",
    "    \n",
    "    def __init__(self):\n",
    "        self.blocks = []\n",
    "    \n",
    "    def add_block(self, block):\n",
    "        \"\"\"\n",
    "        添加区块\n",
    "        \"\"\"\n",
    "        self.blocks.append(block)"
   ]
  },
  {
   "cell_type": "code",
   "execution_count": 34,
   "id": "71a677b7-89f0-4a7c-8203-0b8c77e513ba",
   "metadata": {},
   "outputs": [],
   "source": [
    "#from mlxtend.preprocessing import TransactionEncoder\n",
    "class TransactionEncoder(JSONEncoder):\n",
    "    def default(self, o):\n",
    "        return o.__dict__"
   ]
  },
  {
   "cell_type": "code",
   "execution_count": 35,
   "id": "1adfee5e-eeec-437b-ba95-af34ca02f922",
   "metadata": {},
   "outputs": [],
   "source": [
    "#updated ProofOfWork version with a rewarding system:\n",
    "\n",
    "class ProofOfWork:\n",
    "    \"\"\"\n",
    "        工作量证明\n",
    "    \"\"\"\n",
    "    \n",
    "    def __init__(self, block, miner, difficult=5):\n",
    "        self.block=block\n",
    "        self.miner=miner\n",
    "        \n",
    "        #定义工作量难度，默认为5，表示有效的hash以5个0开头\n",
    "        self.difficulty=difficult\n",
    "        \n",
    "        #添加工作奖励\n",
    "        self.reward_amount=10\n",
    "        \n",
    "        \n",
    "    def mine(self):\n",
    "        \"\"\"\n",
    "            挖矿函数\n",
    "        \"\"\"\n",
    "        i=0\n",
    "        prefix='0'*self.difficulty\n",
    "        \n",
    "        #添加奖励\n",
    "        t = Transaction(\n",
    "            sender = \"\",\n",
    "            recipient=self.miner.address,\n",
    "            amount=self.reward_amount,\n",
    "        )\n",
    "        sig = self.miner.sign(json.dumps(t, indent=4, cls=TransactionEncoder))\n",
    "        t.set_sign(sig, self.miner.pubkey)\n",
    "        self.block.transactions.append(t)\n",
    "        \n",
    "        while True:\n",
    "            message = hashlib.sha256()\n",
    "            message.update(str(self.block.prev_hash).encode('utf-8'))\n",
    "            message.update(str(self.block.transactions).encode('utf-8'))\n",
    "            message.update(str(self.block.timestamp).encode('utf-8'))\n",
    "            message.update(str(i).encode(\"utf-8\"))\n",
    "            digest=message.hexdigest()\n",
    "            if digest.startswith(prefix):\n",
    "                self.block.nonce=i\n",
    "                self.block.hash=digest\n",
    "                return self.block\n",
    "            i+=1\n",
    "        "
   ]
  },
  {
   "cell_type": "code",
   "execution_count": 36,
   "id": "c55cb5d4-b5cd-4853-b592-78187b2d614c",
   "metadata": {},
   "outputs": [],
   "source": [
    "def get_balance(user):\n",
    "    balance = 0\n",
    "    for block in blockchain.blocks:\n",
    "        for t in block.transactions:\n",
    "            if t.sender == user.address.decode():\n",
    "                balance-=t.amount\n",
    "            elif t.recipient == user.address.decode():\n",
    "                balance+=t.amount\n",
    "    return balance"
   ]
  },
  {
   "cell_type": "code",
   "execution_count": 37,
   "id": "616d8071-eee7-4643-b301-126df5f8e013",
   "metadata": {},
   "outputs": [
    {
     "name": "stdout",
     "output_type": "stream",
     "text": [
      "alice: 0 number of coins\n",
      "tom: 0 number of coins\n",
      "bob: 0 number of coins\n"
     ]
    }
   ],
   "source": [
    "#测试，初始化区块链\n",
    "blockchain = BlockChain()\n",
    "\n",
    "#创建三个钱包，alice, tom, bob\n",
    "alice = Wallet()\n",
    "tom = Wallet()\n",
    "bob = Wallet()\n",
    "\n",
    "\n",
    "#打印当前钱包情况\n",
    "print(\"alice: %d number of coins\"%(get_balance(alice)))\n",
    "print(\"tom: %d number of coins\"%(get_balance(tom)))\n",
    "print(\"bob: %d number of coins\"%(get_balance(bob)))"
   ]
  },
  {
   "cell_type": "code",
   "execution_count": 38,
   "id": "c3a9655a-ebcc-4682-b313-e21b5c5c5d79",
   "metadata": {},
   "outputs": [],
   "source": [
    "#alice 生成创世区块，并添加到区块链中\n",
    "\n",
    "new_block1 = Block(transactions=[], prev_hash=\"\")\n",
    "w1 = ProofOfWork(new_block1, alice)\n",
    "genesis_block = w1.mine()\n",
    "blockchain.add_block(genesis_block)"
   ]
  },
  {
   "cell_type": "code",
   "execution_count": 39,
   "id": "4b87dcfa-271d-486b-885c-4c5f832232b7",
   "metadata": {},
   "outputs": [
    {
     "name": "stdout",
     "output_type": "stream",
     "text": [
      "alice:10 numbers of coins\n"
     ]
    }
   ],
   "source": [
    "print(\"alice:%d numbers of coins\"%(get_balance(alice)))"
   ]
  },
  {
   "cell_type": "code",
   "execution_count": 40,
   "id": "d6af82bb-e2f5-4933-bb3b-3cd815b50565",
   "metadata": {},
   "outputs": [
    {
     "name": "stdout",
     "output_type": "stream",
     "text": [
      "alice: 10 numbers of coins\n",
      "tom: 0 numbers of coins\n",
      "bob: 0 numbers of coins\n"
     ]
    }
   ],
   "source": [
    "#alice转给 Tom 0.3个加密货币\n",
    "transactions = []\n",
    "new_transaction = Transaction(\n",
    "    sender=alice.address,\n",
    "    recipient=tom.address,\n",
    "    amount=3.6)\n",
    "sig=tom.sign(str(new_transaction))\n",
    "new_transaction.set_sign(sig, tom.pubkey)\n",
    "\n",
    "#打印当前钱包情况\n",
    "print(\"alice: %d numbers of coins\" %(get_balance(alice)))\n",
    "print(\"tom: %d numbers of coins\" %(get_balance(tom)))\n",
    "print(\"bob: %d numbers of coins\" %(get_balance(bob)))"
   ]
  },
  {
   "cell_type": "code",
   "execution_count": 41,
   "id": "32eeabdc-852c-4943-bc7d-5478fea8a9ac",
   "metadata": {},
   "outputs": [
    {
     "name": "stdout",
     "output_type": "stream",
     "text": [
      "verifying success\n",
      "new block created...\n",
      "adding new block to blockchain\n"
     ]
    }
   ],
   "source": [
    "#bob在网络上接收到这笔交易信息，进行验证没问题后生成一个新的区块并添加到区块链中\n",
    "\n",
    "if verify_sign(new_transaction.pubkey,\n",
    "                str(new_transaction),\n",
    "                  new_transaction.signature):\n",
    "    \n",
    "    #验证交易签名没问题，生成一个新的区块\n",
    "    print(\"verifying success\")\n",
    "    new_block2 = Block(transactions=[new_transaction], prev_hash=\"\")\n",
    "    print(\"new block created...\")\n",
    "    w2 = ProofOfWork(new_block2, bob)\n",
    "    block=w2.mine()\n",
    "    print(\"adding new block to blockchain\")\n",
    "    blockchain.add_block(block)\n",
    "else:\n",
    "    print(\"failed transaction!\")"
   ]
  },
  {
   "cell_type": "code",
   "execution_count": 42,
   "id": "79706f39-b24a-4791-a588-5f4a1802082e",
   "metadata": {},
   "outputs": [
    {
     "name": "stdout",
     "output_type": "stream",
     "text": [
      "alice: 6.4 numbers of coins\n",
      "tom: 3.6 numbers of coins\n",
      "bob: 10 numbers of coins\n"
     ]
    }
   ],
   "source": [
    "#打印当前钱包情况\n",
    "print(\"alice: %.1f numbers of coins\" %(get_balance(alice)))\n",
    "print(\"tom: %.1f numbers of coins\" %(get_balance(tom)))\n",
    "print(\"bob: %d numbers of coins\" %(get_balance(bob)))\n"
   ]
  },
  {
   "cell_type": "code",
   "execution_count": 43,
   "id": "15b84289-6b8d-4bb0-8a54-12809c66810a",
   "metadata": {},
   "outputs": [
    {
     "name": "stdout",
     "output_type": "stream",
     "text": [
      "b'WBcm9NEzJ0xWkYq2h3Cl+5Eyv4Lo3mBJQctXOANfnVc='\n",
      "b'icCheCI3QnP+XhFG4zYP9a7FXh7onhyj5T1snYHstXE='\n",
      "b'+ncPL31NzXeT2Jfo7hIrLEDnolpYMrZll3tBuFq0eys='\n"
     ]
    }
   ],
   "source": [
    "print(alice.address)\n",
    "print(tom.address)\n",
    "print(bob.address)"
   ]
  },
  {
   "cell_type": "code",
   "execution_count": 44,
   "id": "39b7ce82-81f2-4b78-b9e8-9736e4d042d5",
   "metadata": {},
   "outputs": [
    {
     "name": "stdout",
     "output_type": "stream",
     "text": [
      "There are 2 number of blocks in it\n",
      "\n",
      "previous hash: \n",
      "transaction: [WBcm9NEzJ0xWkYq2h3Cl+5Eyv4Lo3mBJQctXOANfnVc= getting 10 number of coins from mining]\n",
      "time stamp: 2022-08-05 10:03:31\n",
      "hash 00000f75280ea3f5fb6e756515e8edbe404315708c83e90f6887207896483b5a\n",
      "\n",
      "previous hash: \n",
      "transaction: [WBcm9NEzJ0xWkYq2h3Cl+5Eyv4Lo3mBJQctXOANfnVc= sending 3 number of coins to icCheCI3QnP+XhFG4zYP9a7FXh7onhyj5T1snYHstXE=, +ncPL31NzXeT2Jfo7hIrLEDnolpYMrZll3tBuFq0eys= getting 10 number of coins from mining]\n",
      "time stamp: 2022-08-05 10:03:36\n",
      "hash 000001dc2d1c85d5be46b692f6688f97496795f5ed6c1c24a6c0bbc0c15ad91e\n",
      "\n"
     ]
    }
   ],
   "source": [
    "print(\"There are %d number of blocks in it\\n\"%len(blockchain.blocks))\n",
    "\n",
    "for block in blockchain.blocks:\n",
    "    print(\"previous hash: %s\"%block.prev_hash)\n",
    "    print(\"transaction: %s\"%block.transactions)\n",
    "    print(\"time stamp: %s\"%block.timestamp)\n",
    "    print(\"hash %s\\n\"%block.hash)"
   ]
  },
  {
   "cell_type": "code",
   "execution_count": null,
   "id": "7c132e4d-b5ef-4917-8c4f-cab9ff13c187",
   "metadata": {},
   "outputs": [],
   "source": []
  },
  {
   "cell_type": "code",
   "execution_count": null,
   "id": "a361b596-a868-4ff3-a9bd-393d7b9e41fa",
   "metadata": {},
   "outputs": [],
   "source": []
  }
 ],
 "metadata": {
  "kernelspec": {
   "display_name": "Python 3",
   "language": "python",
   "name": "python3"
  },
  "language_info": {
   "codemirror_mode": {
    "name": "ipython",
    "version": 3
   },
   "file_extension": ".py",
   "mimetype": "text/x-python",
   "name": "python",
   "nbconvert_exporter": "python",
   "pygments_lexer": "ipython3",
   "version": "3.9.5"
  }
 },
 "nbformat": 4,
 "nbformat_minor": 5
}
